{
 "cells": [
  {
   "cell_type": "markdown",
   "metadata": {},
   "source": [
    "# Machine Learning on Text Classification"
   ]
  },
  {
   "cell_type": "markdown",
   "metadata": {},
   "source": [
    "## Table of Contents:        \n",
    "[(I) Machine Learning & Text Classification](#4-bullet)\n",
    "* [(I.a) ML Questions and motivations](#41-bullet)\n",
    "* [(I.b) Identifying Keywords](#42-bullet)\n",
    "* [(I.c) ML model testing & comparisons](#43-bullet)\n",
    "* [(I.a) Conclusions](#44-bullet)\n",
    "\n",
    "\n",
    "\n"
   ]
  },
  {
   "cell_type": "markdown",
   "metadata": {},
   "source": [
    "# I. Text Classification <a class=\"anchor\" id=\"4-bullet\"></a>\n",
    "\n",
    "20 years ago, text classification would have been cumbersome for experts and a harrowing feat for the everyday person (machine learning and neural nets existed at that time, but the study was very much in it's infancy). With today's storage capabilities and computing power, it can be done at home!\n",
    "\n",
    "Text classification is a very interesting topic related to ML for me because its a process of getting quantifiable conclusions from non-numerical data. It is also a great introduction into the depth of machine learning and what sort of methods for analysis are out there.\n",
    "\n",
    "This article is comprised of these sections:\n",
    "1. creating the hypothesis\n",
    "2. data creation\n",
    "3. exploratory analysis\n",
    "4. ML models to get performance\n",
    "5. evaluating the models and tuning them"
   ]
  },
  {
   "cell_type": "markdown",
   "metadata": {},
   "source": [
    "## Data Creation\n",
    "The following data was pulled from the [Springer API website](https://dev.springernature.com/). \n"
   ]
  },
  {
   "cell_type": "markdown",
   "metadata": {},
   "source": [
    "## I.A: Creating the Hypothesis <a class=\"anchor\" id=\"41-bullet\"></a>\n",
    "\n",
    "Within the scientific abstracts pulled out from the API, there were various columns of descriptive information like `publisher`, `authors`, `starting page`, and others. But one column, the `keywords` column, only contained NaN values and was of no use. In this text classfication approach, there are two questions: \n",
    "\n",
    "**1. Can we identify key words that represent each publication (journal)?**\n",
    "\n",
    "**2. Given the abstract, can we predict what publication its paper would be going to?**\n",
    "\n",
    "To start off, let's read in the data set (which was pulled from the API but then downloaded into a CSV). Then take a look at the `keywords` column."
   ]
  },
  {
   "cell_type": "code",
   "execution_count": 7,
   "metadata": {
    "scrolled": true
   },
   "outputs": [
    {
     "name": "stderr",
     "output_type": "stream",
     "text": [
      "C:\\Users\\andrew\\Anaconda3\\lib\\site-packages\\IPython\\core\\interactiveshell.py:2785: DtypeWarning: Columns (9,10) have mixed types. Specify dtype option on import or set low_memory=False.\n",
      "  interactivity=interactivity, compiler=compiler, result=result)\n"
     ]
    }
   ],
   "source": [
    "# let's read in the data from the csv\n",
    "import pandas as pd\n",
    "\n",
    "# full data set\n",
    "full_csv = pd.read_csv(r'C:\\Users\\andrew\\Desktop\\Python Projects\\sta141b-final-project\\Processed_2000to2018BMC_DF.csv')"
   ]
  },
  {
   "cell_type": "markdown",
   "metadata": {},
   "source": [
    "## I.B: Identifying Keywords <a class=\"anchor\" id=\"42-bullet\"></a>\n",
    "The first question is, \n",
    "\n",
    "### \"**Can we identify key words that represent each publication (journal)?**\""
   ]
  },
  {
   "cell_type": "code",
   "execution_count": 8,
   "metadata": {
    "scrolled": true
   },
   "outputs": [],
   "source": [
    "# y-val is going to be publicationName and x-vals is going to be abstract txt\n",
    "# import ggplot so that we can do some basic graphs\n",
    "\n",
    "import plotnine as p9\n",
    "from pandas.api.types import CategoricalDtype\n",
    "from plotnine import ggplot\n",
    "y = full_csv['publicationName'] # y values; now, we're still missing x-column\n",
    "pub_counts = full_csv.groupby('publicationName').size().sort_values().reset_index()\n",
    "pub_counts = pub_counts.rename(columns={0:'counts'})"
   ]
  },
  {
   "cell_type": "code",
   "execution_count": 9,
   "metadata": {
    "scrolled": true
   },
   "outputs": [
    {
     "data": {
      "text/html": [
       "<div>\n",
       "<style scoped>\n",
       "    .dataframe tbody tr th:only-of-type {\n",
       "        vertical-align: middle;\n",
       "    }\n",
       "\n",
       "    .dataframe tbody tr th {\n",
       "        vertical-align: top;\n",
       "    }\n",
       "\n",
       "    .dataframe thead th {\n",
       "        text-align: right;\n",
       "    }\n",
       "</style>\n",
       "<table border=\"1\" class=\"dataframe\">\n",
       "  <thead>\n",
       "    <tr style=\"text-align: right;\">\n",
       "      <th></th>\n",
       "      <th>counts</th>\n",
       "    </tr>\n",
       "  </thead>\n",
       "  <tbody>\n",
       "    <tr>\n",
       "      <th>count</th>\n",
       "      <td>75.00000</td>\n",
       "    </tr>\n",
       "    <tr>\n",
       "      <th>mean</th>\n",
       "      <td>1658.08000</td>\n",
       "    </tr>\n",
       "    <tr>\n",
       "      <th>std</th>\n",
       "      <td>2266.20828</td>\n",
       "    </tr>\n",
       "    <tr>\n",
       "      <th>min</th>\n",
       "      <td>5.00000</td>\n",
       "    </tr>\n",
       "    <tr>\n",
       "      <th>25%</th>\n",
       "      <td>355.50000</td>\n",
       "    </tr>\n",
       "    <tr>\n",
       "      <th>50%</th>\n",
       "      <td>890.00000</td>\n",
       "    </tr>\n",
       "    <tr>\n",
       "      <th>75%</th>\n",
       "      <td>1797.50000</td>\n",
       "    </tr>\n",
       "    <tr>\n",
       "      <th>max</th>\n",
       "      <td>11324.00000</td>\n",
       "    </tr>\n",
       "  </tbody>\n",
       "</table>\n",
       "</div>"
      ],
      "text/plain": [
       "            counts\n",
       "count     75.00000\n",
       "mean    1658.08000\n",
       "std     2266.20828\n",
       "min        5.00000\n",
       "25%      355.50000\n",
       "50%      890.00000\n",
       "75%     1797.50000\n",
       "max    11324.00000"
      ]
     },
     "execution_count": 9,
     "metadata": {},
     "output_type": "execute_result"
    }
   ],
   "source": [
    "pub_counts.describe()"
   ]
  },
  {
   "cell_type": "markdown",
   "metadata": {},
   "source": [
    "We have TONs of different journals, 75 to be exact. The total number of abstracts within each journal ranges from a minimum of 5 to over 10,000 (11324 abstracts). Attempting to effectively classify all of these would require way more data and computational power than I have. \n",
    "\n",
    "This can't be feasibly done on my laptop, so I'll be focusing on publications with >4000 abstracts. This way, I can focus the efforts on a handful classifications and be much more confident in the answer. I call these publications with >4000 abstracts as **MEGA publications**.\n",
    "\n",
    "And what would be a good way to classify these mega publications? To do this, I'll be looking at the unigrams & bigrams. The idea is that each mega publication would have very different unigrams/bigrams that could differentiate them."
   ]
  },
  {
   "cell_type": "code",
   "execution_count": 59,
   "metadata": {
    "scrolled": false
   },
   "outputs": [
    {
     "name": "stdout",
     "output_type": "stream",
     "text": [
      "Publications with >= 4000 articles:\n",
      "                 publicationName  counts\n",
      "68       BMC Infectious Diseases    5072\n",
      "69            BMC Research Notes    5140\n",
      "70  BMC Health Services Research    5863\n",
      "71            BMC Bioinformatics    7820\n",
      "72                    BMC Cancer    7918\n",
      "73                  BMC Genomics   10749\n",
      "74             BMC Public Health   11324\n"
     ]
    }
   ],
   "source": [
    "print(\"Publications with >= 4000 articles:\\n{}\"\n",
    "      .format((pub_counts[pub_counts['counts'] >= 4000])))"
   ]
  },
  {
   "cell_type": "markdown",
   "metadata": {},
   "source": [
    "We can see that the above are the MEGA publications.\n",
    "\n",
    "### So... how can we further refine our key word searching question?\n",
    "\n",
    "The original question: \"Given the scientific abstracts and the publications they published in, could we extract keywords that describe each subject of the publications?\"\n",
    "\n",
    "The new, revised question: \n",
    "#### _\"Given the scientific abstracts for the **top 7 publications** (by article count size), could we extract **unigrams/bigrams** that describe each of the subjects of the publications?_\n",
    "\n",
    "\n",
    "First, we need to subset the data so that we get only the rows of the mega publications. Here are the steps used to create the subsets\n",
    "\n",
    "- 1) created dataframe with only the columns we needed: `publicationName` and `abstract`. Then, the NA's are removed\n",
    "- 2) created `pub_count_cutter` function that takes in 2 variables: the cleaned CSV (the one with the NA's removed) = `csv_ML`, and the number value at which remove publications that have a total abstract count less than that = `count_cutoff`. An example of `count_cutoff` is, at `count_cutoff=1000`, I remove all rows of the publications that have less than 1000 abstracts in the data set. We'll be doing the analysis at `count_cutoff=4000`.\n",
    "- 3) create 2 more functions. `clean_str` cleans each abstract by removing characters we don't need, like `?!#` and others, turns all of the characters into lowercase, and does a few more transformations on the text. We also create `x_cleaner`, which automates the process of taking in a CSV that has a `count_cutoff` applied to it, then returning a list of cleaned abstracts"
   ]
  },
  {
   "cell_type": "code",
   "execution_count": 94,
   "metadata": {},
   "outputs": [],
   "source": [
    "csv_grammed = csv_4000.copy().drop(columns=['abstract'])\n",
    "csv_grammed['pubname_id'] = csv_4000['publicationName'].factorize()[0]\n",
    "csv_grammed.head()\n",
    "sorted_pubs = sorted(dict(csv_grammed.values).items())"
   ]
  },
  {
   "cell_type": "markdown",
   "metadata": {},
   "source": [
    "We factorize the y-values and generate a dictionary form. We then also turn the x-values into a vectorized matrix using `TFIDF` in order to feed it into `chi2` and see if there are strong correlations between certain words and publications"
   ]
  },
  {
   "cell_type": "markdown",
   "metadata": {},
   "source": [
    "Within the TFIDF vectorizer, `analyzer='word'` means we turn the abstracts into numbers by WORD, not characters. For example, \"the apple tree\" would be read as a 1x3 matrix, instead of by characters. `stop_words='english'` means we remove common english words (stop words), `min_df=2` means only select words that are present at least twice in the entire corpus, `ngrams_range` means we we select unigrams/bigrams, `max_features=5000` means we select up to 5000 words so that we can limit the dimension size of the vectorized abstracts"
   ]
  },
  {
   "cell_type": "code",
   "execution_count": 10,
   "metadata": {},
   "outputs": [],
   "source": [
    "from sklearn.feature_selection import chi2\n",
    "from sklearn.feature_extraction.text import TfidfVectorizer\n",
    "import numpy as np\n",
    "\n",
    "# tfidf function\n",
    "tfidf_ngrams = TfidfVectorizer(analyzer='word', stop_words='english', min_df=2,\n",
    "                               ngram_range=(1,2), max_features=5000)"
   ]
  },
  {
   "cell_type": "code",
   "execution_count": 18,
   "metadata": {},
   "outputs": [
    {
     "name": "stdout",
     "output_type": "stream",
     "text": [
      "# 'BMC Bioinformatics':\n",
      "--Most correlated unigrams:\n",
      ". prediction\n",
      ". algorithms\n",
      ". method\n",
      ". algorithm\n",
      "--Most correlated bigrams:\n",
      ". microarray data\n",
      ". freely available\n",
      ". available http\n",
      ". data sets\n",
      "# 'BMC Cancer':\n",
      "--Most correlated unigrams:\n",
      ". cells\n",
      ". breast\n",
      ". tumor\n",
      ". cancer\n",
      "--Most correlated bigrams:\n",
      ". overall survival\n",
      ". cancer cells\n",
      ". cell lines\n",
      ". breast cancer\n",
      "# 'BMC Genomics':\n",
      "--Most correlated unigrams:\n",
      ". species\n",
      ". gene\n",
      ". genome\n",
      ". genes\n",
      "--Most correlated bigrams:\n",
      ". genome wide\n",
      ". differentially expressed\n",
      ". genes involved\n",
      ". gene expression\n",
      "# 'BMC Health Services Research':\n",
      "--Most correlated unigrams:\n",
      ". health\n",
      ". healthcare\n",
      ". services\n",
      ". care\n",
      "--Most correlated bigrams:\n",
      ". health services\n",
      ". quality care\n",
      ". primary care\n",
      ". health care\n",
      "# 'BMC Infectious Diseases':\n",
      "--Most correlated unigrams:\n",
      ". isolates\n",
      ". infections\n",
      ". tb\n",
      ". infection\n",
      "--Most correlated bigrams:\n",
      ". mdr tb\n",
      ". viral load\n",
      ". infected patients\n",
      ". hiv infected\n",
      "# 'BMC Public Health':\n",
      "--Most correlated unigrams:\n",
      ". school\n",
      ". smoking\n",
      ". physical\n",
      ". health\n",
      "--Most correlated bigrams:\n",
      ". mental health\n",
      ". 95 ci\n",
      ". public health\n",
      ". physical activity\n",
      "# 'BMC Research Notes':\n",
      "--Most correlated unigrams:\n",
      ". right\n",
      ". left\n",
      ". presentationa\n",
      ". case\n",
      "--Most correlated bigrams:\n",
      ". case presentationwe\n",
      ". reference genes\n",
      ". case presentationa\n",
      ". year old\n"
     ]
    }
   ],
   "source": [
    "# finds the top 4 words (n=4) that are correlated with the publication. It identifies unigrams & bigrams\n",
    "n = 4\n",
    "for pub, number in sorted_pubs:\n",
    "    chi2_run = chi2(tfidf_ngrams.fit_transform(x_cleaned_4000).toarray(), csv_grammed['pubname_id'] == number)\n",
    "    index_of_vals = np.argsort(chi2_run[0])\n",
    "    all_words = np.array(tfidf_ngrams.get_feature_names())[index_of_vals]\n",
    "    unigrams = [uni for uni in all_words if len(uni.split(' '))==1]\n",
    "    bigrams = [bi for bi in all_words if len(bi.split(' '))==2]\n",
    "    print(\"# '{}':\".format(pub))\n",
    "    print(\"--Most correlated unigrams:\\n. {}\".format('\\n. '.join(unigrams[-n:])))\n",
    "    print(\"--Most correlated bigrams:\\n. {}\".format('\\n. '.join(bigrams[-n:])))"
   ]
  },
  {
   "cell_type": "markdown",
   "metadata": {},
   "source": [
    "Based off the unigram/bigram search above, there are many words that are highly correlative but are essentially the same thing. For example, the words `algorithm` and `algorithms` represent the same thing but are identified as different in our function. In order to eliminate this, we can use a `stemmer` on the words, which reduces each word to its root form. Although the abstracts are almost guaranteed to have technical jargon, I found using stemming to be appropriate because it would cut away repetitive words like the one just mentioned. SnowballStemmer is used for this, which a common package for stemming."
   ]
  },
  {
   "cell_type": "markdown",
   "metadata": {},
   "source": [
    "### Using stemming on the data, and then running unigrams & bigrams again"
   ]
  },
  {
   "cell_type": "code",
   "execution_count": 97,
   "metadata": {},
   "outputs": [
    {
     "name": "stdout",
     "output_type": "stream",
     "text": [
      "# 'BMC Bioinformatics':\n",
      "  . Most correlated unigrams:\n",
      ". comput\n",
      ". align\n",
      ". method\n",
      ". algorithm\n",
      "  . Most correlated bigrams:\n",
      ". avail http\n",
      ". protein interact\n",
      ". protein structur\n",
      ". data set\n",
      "# 'BMC Cancer':\n",
      "  . Most correlated unigrams:\n",
      ". breast\n",
      ". cell\n",
      ". tumor\n",
      ". cancer\n",
      "  . Most correlated bigrams:\n",
      ". cancer patient\n",
      ". cell line\n",
      ". cancer cell\n",
      ". breast cancer\n",
      "# 'BMC Genomics':\n",
      "  . Most correlated unigrams:\n",
      ". sequenc\n",
      ". transcript\n",
      ". genom\n",
      ". gene\n",
      "  . Most correlated bigrams:\n",
      ". gene involv\n",
      ". differenti express\n",
      ". genom sequenc\n",
      ". gene express\n",
      "# 'BMC Health Services Research':\n",
      "  . Most correlated unigrams:\n",
      ". hospit\n",
      ". healthcar\n",
      ". servic\n",
      ". care\n",
      "  . Most correlated bigrams:\n",
      ". qualiti care\n",
      ". primari care\n",
      ". health servic\n",
      ". health care\n",
      "# 'BMC Infectious Diseases':\n",
      "  . Most correlated unigrams:\n",
      ". mrsa\n",
      ". hiv\n",
      ". tb\n",
      ". infect\n",
      "  . Most correlated bigrams:\n",
      ". viral load\n",
      ". blood cultur\n",
      ". infect patient\n",
      ". hiv infect\n",
      "# 'BMC Public Health':\n",
      "  . Most correlated unigrams:\n",
      ". intervent\n",
      ". smoke\n",
      ". school\n",
      ". health\n",
      "  . Most correlated bigrams:\n",
      ". 95 ci\n",
      ". overweight obes\n",
      ". public health\n",
      ". physic activ\n",
      "# 'BMC Research Notes':\n",
      "  . Most correlated unigrams:\n",
      ". case\n",
      ". left\n",
      ". presentationa\n",
      ". findingsw\n",
      "  . Most correlated bigrams:\n",
      ". case presentationw\n",
      ". year old\n",
      ". case presentationa\n",
      ". refer gene\n"
     ]
    }
   ],
   "source": [
    "from sklearn.feature_selection import chi2\n",
    "n = 4\n",
    "for pub, number in sorted_pubs:\n",
    "    chi2_run = chi2(tfidf_ngrams.fit_transform(word_split).toarray(), csv_grammed['pubname_id'] == number)\n",
    "    index_of_vals = np.argsort(chi2_run[0])\n",
    "    all_words = np.array(tfidf_ngrams.get_feature_names())[index_of_vals]\n",
    "    unigrams = [uni for uni in all_words if len(uni.split(' '))==1]\n",
    "    bigrams = [bi for bi in all_words if len(bi.split(' '))==2]\n",
    "    print(\"# '{}':\".format(pub))\n",
    "    print(\"  . Most correlated unigrams:\\n. {}\".format('\\n. '.join(unigrams[-n:])))\n",
    "    print(\"  . Most correlated bigrams:\\n. {}\".format('\\n. '.join(bigrams[-n:])))"
   ]
  },
  {
   "cell_type": "markdown",
   "metadata": {},
   "source": [
    "## Question 1 Conclusion\n",
    "Much better! The unigrams/bigrams we find using stemmer provide us a better idea on the labels we're looking for. Instead of `algorithm` and `algorithms`, a new word that we get, for example, under Bioinformatics is \"compute.\" Our output of unigrams/bigrams is more unique than our previous attempt that didn't use a stemmer, but the result still needs some human interpretation. For instance, under 'BMC Public Health', 'physical activ' certainly refers to 'physical activity.'\n",
    "\n",
    "The unigrams/bigrams we get as output appear to be highly descriptive of each mega publication. \"viral load\" and \"blood culture\" are strong indicators of the publication \"BMC Infectious Diseases\" while \"BMC Cancer\" has words like \"tumor\" and \"cancer\", which we would expect. Some of the unigrams/bigrams do a decent job at categorizing, while other publications have generalized unigrams/bigrams that don't tell us much about the publication. For example, some unigrams/bigrams for publication 'BMC Research Notes' are 'case', 'left', 'case presentation', and 'year old.' Although these may be strongly correlated with 'BMC Research Notes', they aren't very useful in a practical sense. \n",
    "\n",
    "Overall, the findings for unigrams/bigrams to describe each mega publication were relatively succesful, but there were certainly areas of weakness. Publications thatI categorize as STRONG, MODERATE, and WEAK descriptive unigrams/bigrams are:\n",
    "\n",
    "- STRONG: BMC Cancer, Infectious Diseases, Public Health, and Health Services\n",
    "- MODERATE: BMC Genomics\n",
    "- WEAK: BMC Bioinformatics, Research Notes\n",
    "\n",
    "Because some publications have moderate/weak unigrams/bigrams as compared to completely distinct words (like instead if we were to run a classifier that might determine sports vs. economics vs. art-- three fields that are vastly different), we expect our second question to have weaknesses in its accuracy. Doing a publication prediction based on the abstract may not be as accurate as we hope. The following question will test different methods of classification and show us which one is the most accurate."
   ]
  },
  {
   "cell_type": "markdown",
   "metadata": {},
   "source": [
    "## I.C: ML model testing & comparisons <a class=\"anchor\" id=\"43-bullet\"></a>"
   ]
  },
  {
   "cell_type": "markdown",
   "metadata": {},
   "source": [
    "The second question I wanted to ask is: **\"Given an abstract, could we identify which publication it came from?\"** I was curious about this question as well because, intuitively, each journal would have strongly unique text data. But as shown in question 1, this may not be the case. This question will be applied to the mega publications only."
   ]
  },
  {
   "cell_type": "markdown",
   "metadata": {},
   "source": [
    "I will be applying the ML classifiers on the a training set and then a test set. The idea is that we would want to see what performance it gives at the smaller scale, and then observe if there are any changes when we apply the ML to a larger data set. Ideally, the classification on the smaller set will do well AND also do well on the entire data set."
   ]
  },
  {
   "cell_type": "markdown",
   "metadata": {},
   "source": [
    "First, run the packages needed to do the ML modeling (hidden from output to keep it tidy). Now that we have the cleaned abstracts (and the y-response, which are the mega publications), the process for obtaining are results now are:\n",
    "\n",
    "1. Turn abstracts into vectorized form. I will be using `TF-IDF`\n",
    "2. Using the vectorized abstracts, test different classifications to see how each responds. I'll be trying:\n",
    "\n",
    "\n",
    "- MultinomialNB\n",
    "- LinearSVC\n",
    "- K Nearest Neighbors\n",
    "- Logistic Regression\n",
    "- Random Forest Classifier\n",
    "- XGBoost\n",
    "\n",
    "\n",
    "3. Running each of the models, I will find the one with the best accuracy. This is done by running each model on the training set, and then applying it on the test set.\n",
    "4. We will confirm the training accuracy using k-folds cross validation\n",
    "5. For the model that is the most accurate, I then find the optimized hyperparameters using `RandomizedSearchCV`. After reading various documents comparing these two methods, I decided to use `RandomizedSearchCV` to be a more accurate method for finding the best hyperparameters than `GridSearchCV`"
   ]
  },
  {
   "cell_type": "markdown",
   "metadata": {},
   "source": [
    "Within the TFIDF vectorizer, we `analyzer='word'` means we turn the abstracts into numbers by WORD, not characters. `stop_words='english'` means we remove common english words (stop words), `min_df=2` means only select words that are present at least twice, `ngrams_range` means we we select unigrams/bigrams, `max_features=5000` means we select up to 5000 words so that we can limit the dimension size of the vectorized abstracts"
   ]
  },
  {
   "cell_type": "code",
   "execution_count": 40,
   "metadata": {},
   "outputs": [],
   "source": [
    "# which models do we want to run and then compare?\n",
    "models = [\n",
    "    LinearSVC(),\n",
    "    RandomForestClassifier(n_estimators=200, max_depth=3, random_state=1),\n",
    "    LogisticRegression(random_state=1),\n",
    "    KNeighborsClassifier(n_neighbors=5),\n",
    "    MultinomialNB()\n",
    "]"
   ]
  },
  {
   "cell_type": "markdown",
   "metadata": {},
   "source": [
    "We create a function titled `classify_me` which takes in `x_cleaned` = list of abstracts that are cleaned, `y_set` = y-values that match the cleaned abstracts, and `models` = list of models we want to test out together. The `x_cleaned` and `y_set` are able to take in a cut of a \"cleaned csv df\", which would be a dataframe that has certain publications removed (see `x_cleaner` function in RAW file). \n",
    "\n",
    "`classify_me` then spits out the cross-validated calculations for each model, as well as the mean of those cross validations. Comparing those mean scores is how we compare ultimately compare the models."
   ]
  },
  {
   "cell_type": "markdown",
   "metadata": {},
   "source": [
    "### Testing on journals with abstract counts >= 4000"
   ]
  },
  {
   "cell_type": "markdown",
   "metadata": {},
   "source": [
    "Because we will be running different models, running it on the entire data set will take a long time (50k+ abstracts). Instead, I will take a random sample of ~50% of the data and see how the each model performs. I will then choose the best model, find the best hyperparameters for that best model, and then run the model it on the entire data set."
   ]
  },
  {
   "cell_type": "code",
   "execution_count": 101,
   "metadata": {},
   "outputs": [
    {
     "name": "stdout",
     "output_type": "stream",
     "text": [
      "Performance for each model, but at each k-folds: \n",
      "\n",
      "   LinearSVC  RandomForestClassifier  LogisticRegression  \\\n",
      "0   0.744478                0.509311            0.754006   \n",
      "1   0.769397                0.529259            0.785436   \n",
      "2   0.782307                0.525585            0.791414   \n",
      "3   0.782986                0.518663            0.792535   \n",
      "4   0.805990                0.524306            0.807292   \n",
      "5   0.811116                0.536257            0.827616   \n",
      "6   0.795918                0.535823            0.808945   \n",
      "7   0.789405                0.523231            0.801997   \n",
      "8   0.782363                0.516942            0.800608   \n",
      "9   0.775847                0.509991            0.793223   \n",
      "\n",
      "   KNeighborsClassifier  MultinomialNB  \n",
      "0              0.667388       0.731052  \n",
      "1              0.689640       0.771131  \n",
      "2              0.717259       0.773200  \n",
      "3              0.700087       0.773003  \n",
      "4              0.710938       0.786892  \n",
      "5              0.722970       0.798524  \n",
      "6              0.726878       0.790708  \n",
      "7              0.714720       0.778984  \n",
      "8              0.693745       0.762815  \n",
      "9              0.698523       0.764987  \n"
     ]
    }
   ],
   "source": [
    "print(\"Performance for each model, but at each k-folds: \\n\\n{}\".format(trial_4000[0]))"
   ]
  },
  {
   "cell_type": "code",
   "execution_count": 70,
   "metadata": {},
   "outputs": [
    {
     "name": "stdout",
     "output_type": "stream",
     "text": [
      "Average performace for each model, for publications with article count >= 4000:\n",
      "\n",
      "LinearSVC                 0.783981\n",
      "RandomForestClassifier    0.522937\n",
      "LogisticRegression        0.796307\n",
      "KNeighborsClassifier      0.704215\n",
      "MultinomialNB             0.773130\n",
      "dtype: float64\n"
     ]
    }
   ],
   "source": [
    "print(\"Average performace for each model, for publications with article count >= 4000:\\n\\n{}\".format(trial_4000[1]))"
   ]
  },
  {
   "cell_type": "markdown",
   "metadata": {},
   "source": [
    "### At the `>= 4000` level, the model shows us that LinearSVC, LogisticRegression, and MultinomialNB are all comparable, but Logistic Regression performs the best\n",
    "\n",
    "RandomForest performs the worst. We need to choose the right hyperparameters, and we can do that by first using `RandomizedSearchCV` and then `GridSearchCV`."
   ]
  },
  {
   "cell_type": "markdown",
   "metadata": {},
   "source": [
    "Doing some readings, XGBoost is a common method for text classification as well. Considering RandomForest performed poorly, XGBoost is likely to underperform, so we decided to skip this method."
   ]
  },
  {
   "cell_type": "markdown",
   "metadata": {},
   "source": [
    "### Let's test logistic regression further\n",
    "We discovered 2 methods for tuning the hyperparameters for a classifier, `GridSearchCV` and `RandomizedSearchCV`, and tested both. We ultimately stuck with `RandomizedSearchCV` because it tested a range of predictions, not just fixed values we were providing it. However, testing both led to near identical prediction accuracy rates, so we could have chosen either method."
   ]
  },
  {
   "cell_type": "code",
   "execution_count": 110,
   "metadata": {},
   "outputs": [
    {
     "name": "stdout",
     "output_type": "stream",
     "text": [
      "Model accuracy is: 0.7989932303419546\n"
     ]
    }
   ],
   "source": [
    "log_reg = Pipeline([('tfidf',tfidf_ngrams),\n",
    "                 ('clf', LogisticRegression(\n",
    "                     C=random_search.best_params_['C'], penalty=random_search.best_params_['penalty'])\n",
    "                                            )\n",
    "                 ])\n",
    "\n",
    "x_train, x_test, y_train, y_test = train_test_split(x_4000, y_4000, test_size=0.25, random_state=1)\n",
    "\n",
    "small_log = accuracy_model(log_reg, x_train, y_train, x_test, y_test)"
   ]
  },
  {
   "cell_type": "code",
   "execution_count": 90,
   "metadata": {},
   "outputs": [
    {
     "name": "stdout",
     "output_type": "stream",
     "text": [
      "The hyperparameter tuning improved the Linear Regression prediction rate by: 0.0027\n"
     ]
    }
   ],
   "source": [
    "print(\"The hyperparameter tuning improved the Linear Regression prediction rate by: {}\".format(round(.7989932 - .796307, 4)))"
   ]
  },
  {
   "cell_type": "markdown",
   "metadata": {},
   "source": [
    "### Now, we test the logistic regression classifier on the whole `mega publications` data set"
   ]
  },
  {
   "cell_type": "code",
   "execution_count": 105,
   "metadata": {},
   "outputs": [
    {
     "name": "stdout",
     "output_type": "stream",
     "text": [
      "Model accuracy is: 0.8049166729507579\n"
     ]
    }
   ],
   "source": [
    "x_train, x_test, y_train, y_test = train_test_split(x_4000_full, y_4000_full, test_size=0.25, random_state=1)\n",
    "\n",
    "full_4000_classification = accuracy_model(log_reg, x_train, y_train, x_test, y_test)"
   ]
  },
  {
   "cell_type": "code",
   "execution_count": 109,
   "metadata": {
    "scrolled": true
   },
   "outputs": [
    {
     "data": {
      "text/plain": [
       "0.7935286988808492"
      ]
     },
     "execution_count": 109,
     "metadata": {},
     "output_type": "execute_result"
    }
   ],
   "source": [
    "current_model_acc.mean()"
   ]
  },
  {
   "cell_type": "markdown",
   "metadata": {},
   "source": [
    "Interestingly enough, tuning the hyperparameters increased the model accuracy only by 0.27%. Even then, there may be room for error, so this marginal improvement is not signficant at all. Next, when we ran the logistic regression classifier on the whole `mega publications` data set (as a reminder, its where we set an abstract `count_cutoff=4000`), we get 80%, which is relatively identical to our performance on the smaller set (30k vs. 50k+ rows). The logistic regression test on the whole data set showed an improvement of 0.5%, and again, this may just be due to random error in selecting the sample set (30k rows set). Still, we're happy we could achieve identical results when scaling up the logistic regression model from the small set to the entire `mega publications` set! "
   ]
  },
  {
   "cell_type": "markdown",
   "metadata": {},
   "source": [
    "We then run a confusion matrix on the `mega publications` to observe the breakdown in values of where predictions were correct or wrong. The reason why the values are much smaller than the whole `mega publications` data set is because the confusion matrix was run on 25% of the data using `train_test_split`. \n",
    "\n",
    "We can see that the data set is somewhat unbalanced. We decided not to balance the data set because, given that certain publications have many more abstracts than others, like the how Health Services Research has 1k+ abstracts vs ~500 abstracts of Research Notes, there is a much more likely chance that an abstract would be inside Health Services Research vs. Research Notes."
   ]
  },
  {
   "cell_type": "code",
   "execution_count": 158,
   "metadata": {
    "scrolled": true
   },
   "outputs": [
    {
     "name": "stderr",
     "output_type": "stream",
     "text": [
      "C:\\Users\\andrew\\Anaconda3\\lib\\site-packages\\matplotlib\\figure.py:98: MatplotlibDeprecationWarning: \n",
      "Adding an axes using the same arguments as a previous axes currently reuses the earlier instance.  In a future version, a new instance will always be created and returned.  Meanwhile, this warning can be suppressed, and the future behavior ensured, by passing a unique label to each axes instance.\n",
      "  \"Adding an axes using the same arguments as a previous axes \"\n"
     ]
    },
    {
     "data": {
      "text/plain": [
       "Text(0.5, 1.0, 'Confusion Matrix for mega publications')"
      ]
     },
     "execution_count": 158,
     "metadata": {},
     "output_type": "execute_result"
    },
    {
     "data": {
      "image/png": "[encoded data removed]",
      "text/plain": [
       "<Figure size 432x288 with 2 Axes>"
      ]
     },
     "metadata": {
      "needs_background": "light"
     },
     "output_type": "display_data"
    }
   ],
   "source": [
    "# turn confusion matrix into data frame then run it through seaborn, then print the confusion matrix\n",
    "import matplotlib.pyplot as plt\n",
    "\n",
    "conf_mat = pd.DataFrame(confusion_matrix(y_test, y_preds))\n",
    "sns.heatmap(conf_mat, annot=True, fmt='d', xticklabels=sorted_dict.keys(), yticklabels=sorted_dict.keys())\n",
    "plt.axes().set_title(\"Confusion Matrix for mega publications\")"
   ]
  },
  {
   "cell_type": "markdown",
   "metadata": {},
   "source": [
    "# I.D: Conclusions <a class=\"anchor\" id=\"44-bullet\"></a>"
   ]
  },
  {
   "cell_type": "markdown",
   "metadata": {},
   "source": [
    "After testing the various models and using cross validation and RandomizedSearchCV to find the best hyperparameters and ensure the model's accuracy, we found Logistic Regression to perform the best. We reached an 80% accuracy, which is fair, but not as precise as what we would have liked (we would have liked +95% accuracy). Reaching a greater accuracy would likely have to use more robust models like neural nets or deep learning, which we would hope to do in future analysis. Still, we keep in mind that running a model like a neural net or a deep learning model will not simply raise the accuracy rate, as there could be an irreducible error present in the data set. Another approach to improving accuracy would be further feature engineering that would happen at the TFIDF vectorized matrix level. Perhaps there is a more advanced method other than TFIDF, or a more advanced stop_words method that would be able to remove common words like \"case presentation\" or \"services\", words that we found in the unigram/bigram analysis.\n",
    "\n",
    "Overall, we had expected the unigrams/bigrams to be more distinct than our findings. Upon further reflection, these findings do make sense because they are all within the science domain and have some similarities to each other that would not be easily distinguishable. For example, all abstracts are: \n",
    "\n",
    "1. for research papers\n",
    "2. heavily simplified versions of the paper, which would naturally omit a lot of specific information regarding the topic that could have helped differentiate each publication\n",
    "3. again, science related\n",
    "\n",
    "Distinguishing between highly separate topics like politics, economics, and popular culture media would have been much simplier\n"
   ]
  }
 ],
 "metadata": {
  "kernelspec": {
   "display_name": "Python 3",
   "language": "python",
   "name": "python3"
  },
  "language_info": {
   "codemirror_mode": {
    "name": "ipython",
    "version": 3
   },
   "file_extension": ".py",
   "mimetype": "text/x-python",
   "name": "python",
   "nbconvert_exporter": "python",
   "pygments_lexer": "ipython3",
   "version": "3.7.0"
  }
 },
 "nbformat": 4,
 "nbformat_minor": 2
}
